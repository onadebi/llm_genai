{
 "cells": [
  {
   "cell_type": "code",
   "execution_count": 1,
   "id": "ad509618-ce4e-4b5f-b100-613a203d68b0",
   "metadata": {},
   "outputs": [
    {
     "name": "stdout",
     "output_type": "stream",
     "text": [
      "{'model': 'llama3.2', 'created_at': '2025-08-10T22:10:18.5570581Z', 'message': {'role': 'assistant', 'content': \"Here's a winning business idea to generate thousands of dollars online:\\n\\n**Idea:** Online Course Creation and Affiliate Marketing Platform for Creative Professionals\\n\\n**Business Name:** SkillSpark\\n\\n**Description:**\\nSkillSpark is an online platform that connects creative professionals with a global audience, offering them the opportunity to create, sell, and promote their own online courses on various topics such as graphic design, photography, writing, and more. The platform will also feature affiliate marketing opportunities for creators to earn commissions by promoting relevant products and services.\\n\\n**Key Features:**\\n\\n1. **Course Creation Tool:** A user-friendly platform that allows creators to easily create, edit, and publish their own online courses.\\n2. **Marketplace:** A curated marketplace where creators can list and sell their courses, with features such as course promotion, reviews, and ratings.\\n3. **Affiliate Program:** An affiliate program that connects creators with relevant product providers, allowing them to earn commissions by promoting products related to their courses.\\n4. **Community Forum:** A private community forum for creators to connect, share knowledge, and get support from peers and industry experts.\\n5. **Marketing Tools:** A suite of marketing tools and resources to help creators promote their courses and attract students.\\n\\n**Revenue Streams:**\\n\\n1. **Course Sales:** Commission-based revenue generated from course sales on the platform.\\n2. **Affiliate Commissions:** Revenue earned by creators through affiliate marketing programs.\\n3. **Premium Features:** Additional revenue generated from offering premium features such as course editing, customer support, and advanced analytics.\\n\\n**Target Market:**\\nCreative professionals, online entrepreneurs, and small business owners who want to monetize their skills and expertise by creating and selling online courses.\\n\\n**Marketing Strategy:**\\n\\n1. **Social Media:** Leverage social media platforms to promote the platform and connect with potential creators.\\n2. **Influencer Marketing:** Partner with influencers in the creative industry to promote the platform and create content.\\n3. **Content Marketing:** Create high-quality content such as blog posts, videos, and podcasts that provide value to potential creators and attract users to the platform.\\n4. **Paid Advertising:** Run targeted paid ads on social media platforms and Google Ads to reach a wider audience.\\n\\n**Financial Projections:**\\nAssuming an initial investment of $10,000, here are some financial projections:\\n\\n* First Year: $50,000 in revenue (course sales and affiliate commissions)\\n* Second Year: $150,000 in revenue\\n* Third Year: $300,000 in revenue\\n\\n**Key Partnerships:**\\n\\n1. **Course Creation Tools:** Partner with course creation tools such as Teachable, Thinkific, or Kajabi to offer a seamless user experience.\\n2. **Affiliate Program Providers:** Partner with affiliate program providers such as ShareASale or Commission Junction to connect creators with relevant products and services.\\n\\n**Key Team Members:**\\n\\n1. **Founder/CEO:** Oversees the overall strategy and direction of the company.\\n2. **Course Creation Specialist:** Responsible for creating and editing courses, as well as providing support to creators.\\n3. **Affiliate Manager:** Manages the affiliate program and connects creators with relevant product providers.\\n\\n**Competitive Advantage:**\\nSkillSpark's competitive advantage lies in its user-friendly course creation tool, curated marketplace, and affiliate marketing program. The platform also provides a private community forum for creators to connect and share knowledge, which sets it apart from other online learning platforms.\\n\\nBy leveraging the power of online courses and affiliate marketing, SkillSpark can generate thousands of dollars in revenue while helping creative professionals monetize their skills and expertise.\"}, 'done_reason': 'stop', 'done': True, 'total_duration': 148905000700, 'load_duration': 109281700, 'prompt_eval_count': 37, 'prompt_eval_duration': 3642205900, 'eval_count': 727, 'eval_duration': 145147283400}\n"
     ]
    }
   ],
   "source": [
    "import os\n",
    "import requests\n",
    "from dotenv import load_dotenv\n",
    "from bs4 import BeautifulSoup\n",
    "from IPython.display import Markdown, display\n",
    "from openai import OpenAI\n",
    "\n",
    "load_dotenv(override=True);\n",
    "\n",
    "api_key = os.getenv(\"OPEN_API_KEY\");\n",
    "\n",
    "if not api_key:\n",
    "    raise ValueError(\"OPEN_API_KEY environment variable is not set.\")\n",
    "\n",
    "open_ai = OpenAI(api_key=api_key);\n",
    "\n",
    "MODEL = \"llama3.2\"\n",
    "OLLAMA_API = \"http://localhost:11434/api/chat\"\n",
    "HEADERS = {\"Content-Type\": \"application/json\"}\n",
    "MESSAGES = [\n",
    "    {\n",
    "        \"role\": \"user\",\n",
    "        \"content\": \"Write a winning business idea to generate thousands of dollars online.\",\n",
    "    }\n",
    "]\n",
    "payload = {\n",
    "    \"model\": MODEL,\n",
    "    \"messages\": MESSAGES,\n",
    "    \"stream\": False,\n",
    "    \"temperature\": 0.7,\n",
    "    \"max_tokens\": 512,\n",
    "    \"top_p\": 1,\n",
    "    \"frequency_penalty\": 0,\n",
    "    \"presence_penalty\": 0,\n",
    "}\n",
    "\n",
    "the_response = requests.post(url=OLLAMA_API, headers=HEADERS, json=payload)\n",
    "response_json = the_response.json()\n",
    "# Consider Streaming the response\n",
    "print(response_json)\n"
   ]
  }
 ],
 "metadata": {
  "kernelspec": {
   "display_name": "Python 3 (ipykernel)",
   "language": "python",
   "name": "python3"
  },
  "language_info": {
   "codemirror_mode": {
    "name": "ipython",
    "version": 3
   },
   "file_extension": ".py",
   "mimetype": "text/x-python",
   "name": "python",
   "nbconvert_exporter": "python",
   "pygments_lexer": "ipython3",
   "version": "3.12.10"
  }
 },
 "nbformat": 4,
 "nbformat_minor": 5
}
