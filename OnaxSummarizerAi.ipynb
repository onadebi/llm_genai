{
 "cells": [
  {
   "cell_type": "code",
   "execution_count": 6,
   "id": "ad509618-ce4e-4b5f-b100-613a203d68b0",
   "metadata": {},
   "outputs": [],
   "source": [
    "import os\n",
    "import requests\n",
    "from dotenv import load_dotenv\n",
    "from bs4 import BeautifulSoup\n",
    "from IPython.display import Markdown, display\n",
    "from openai import OpenAI\n",
    "\n",
    "load_dotenv(override=True);\n",
    "\n",
    "api_key = os.getenv(\"OPEN_API_KEY\");\n",
    "\n",
    "if not api_key:\n",
    "    raise ValueError(\"OPEN_API_KEY environment variable is not set.\")\n",
    "\n",
    "open_ai = OpenAI(api_key=api_key);\n"
   ]
  },
  {
   "cell_type": "code",
   "execution_count": 7,
   "id": "870d0237-24be-4051-b060-1b3381bc2d7f",
   "metadata": {},
   "outputs": [],
   "source": [
    "class Website:\n",
    "    \"\"\"\n",
    "    A utility class for fetching and processing website content.\n",
    "    \"\"\"\n",
    "    url: str;\n",
    "    title: str = None\n",
    "    content: str = None\n",
    "    summary: str = None\n",
    "\n",
    "\n",
    "    def __init__(self, url):\n",
    "        self.url = url\n",
    "        response = requests.get(url);\n",
    "        if response.status_code == 200:\n",
    "            soup = BeautifulSoup(response.content, 'html.parser');\n",
    "            self.title = soup.title.string if soup.title else \"No title found\"\n",
    "            \n",
    "            # Remove irrelevant elements\n",
    "            for irrelevant in soup(['script', 'style', 'img', 'input', 'nav']):\n",
    "                irrelevant.decompose()\n",
    "            \n",
    "            self.content =soup.get_text(separator=\"\\n\", strip=False)\n",
    "        else:\n",
    "            print(f\"Failed to fetch {url}: {response.status_code}\")"
   ]
  },
  {
   "cell_type": "code",
   "execution_count": 8,
   "id": "975e23a8",
   "metadata": {},
   "outputs": [
    {
     "data": {
      "text/markdown": [
       "### Home - Edward Donner"
      ],
      "text/plain": [
       "<IPython.core.display.Markdown object>"
      ]
     },
     "metadata": {},
     "output_type": "display_data"
    }
   ],
   "source": [
    "short_read = Website(\"https://edwarddonner.com\");\n",
    "display(Markdown(f\"### {short_read.title}\"))\n",
    "\n",
    "# display(Markdown(short_read.content));"
   ]
  },
  {
   "cell_type": "code",
   "execution_count": 9,
   "id": "5f49ee3e",
   "metadata": {},
   "outputs": [],
   "source": [
    "def from_prompt(website: str, system_prompt: str = None) -> tuple[list[dict[str, str]], int, str]:\n",
    "    \"\"\"\n",
    "    Forms a prompt for the LLM based on system and user inputs.\n",
    "    \"\"\"\n",
    "    if not system_prompt:\n",
    "        system_prompt = \"You are a helpful assistant that analyzes the content of a website and provides a short summary, ignoring texts that may be navigation related.\"\n",
    "\n",
    "    soup_props: BeautifulSoup = None\n",
    "    status_code: int = 403\n",
    "    error: str = None;\n",
    "    try:\n",
    "        response = requests.get(website)\n",
    "        status_code: int = response.status_code\n",
    "        if status_code == 200:\n",
    "            soup_props = BeautifulSoup(response.content, 'html.parser')\n",
    "            for irrelevant in soup_props(['script', 'style', 'img', 'input', 'nav']):\n",
    "                irrelevant.decompose()\n",
    "        else:\n",
    "            print(f\"Failed to fetch {website}: {status_code}\")\n",
    "            error = f\"Failed to fetch {website}: {status_code}\"\n",
    "            return ([], status_code, error)\n",
    "    except Exception as e:\n",
    "        # print(f\"An error occurred while fetching {website}: {e}\")\n",
    "        error = str(e)\n",
    "        return ([], status_code, error)\n",
    "    # if not soup_props:\n",
    "    #     raise ValueError(f\"Failed to fetch or parse the website: {website}\")\n",
    "\n",
    "    user_prompt = f\"You are looking at a website titled {soup_props.title.string if soup_props.title else 'No title found'}.\"\n",
    "    user_prompt += \"\\nThe contents of this website is as follows; please provide a short summary of this website in markdown. If it includes news or announcements, then summarize these too.\\n\\n\"\n",
    "    user_prompt += soup_props.get_text(separator=\"\\n\", strip=False)\n",
    "    prompts: list[dict[str, str]] = [\n",
    "        {\n",
    "            \"role\": \"system\",\n",
    "            \"content\": system_prompt\n",
    "        },\n",
    "        {\n",
    "            \"role\": \"user\",\n",
    "            \"content\": user_prompt\n",
    "        }\n",
    "    ]\n",
    "    return (prompts, status_code,error)\n"
   ]
  },
  {
   "cell_type": "code",
   "execution_count": 12,
   "id": "c28347a5",
   "metadata": {},
   "outputs": [
    {
     "name": "stdout",
     "output_type": "stream",
     "text": [
      "[{'role': 'system', 'content': 'You are a helpful assistant that analyzes the content of a website and provides a short summary, ignoring texts that may be navigation related.'}, {'role': 'user', 'content': 'You are looking at a website titled Onaefe Edebi.\\nThe contents of this website is as follows; please provide a short summary of this website in markdown. If it includes news or announcements, then summarize these too.\\n\\n\\n\\n\\n\\n\\n\\n\\n\\n\\n\\nOnaefe Edebi\\n\\n\\n\\n\\n\\n\\n\\n\\n\\n\\n🚧 Under Construction 🏗️\\n\\n\\nIn the mean time, please check out my links below:\\n\\n\\n\\n\\n\\n\\n\\n            GitHub\\n        \\n\\n\\n\\n            LinkedIn\\n        \\n\\n\\n\\n            CourseRunway - AI Powered site to learn about any subject\\n        \\n\\n\\n\\n\\n\\n\\n\\n'}]\n"
     ]
    },
    {
     "data": {
      "text/markdown": [
       "\n",
       "======\n",
       "# Summary of Onaefe Edebi\n",
       "\n",
       "The website titled \"Onaefe Edebi\" is currently under construction. While the main content is not available, visitors are encouraged to explore links to the owner's GitHub, LinkedIn, and CourseRunway, an AI-powered platform for learning about various subjects."
      ],
      "text/plain": [
       "<IPython.core.display.Markdown object>"
      ]
     },
     "metadata": {},
     "output_type": "display_data"
    }
   ],
   "source": [
    "the_prompt = from_prompt(\"https://onax.me\");\n",
    "print(the_prompt[0])\n",
    "\n",
    "# The 'temperature' parameter controls the randomness and creativity of the model's responses.\n",
    "# Lower values (e.g., 0.2) make the output more focused and deterministic.\n",
    "# # Higher values (e.g., 0.8) make the output more diverse and creative.\n",
    "if the_prompt[1] == 200:\n",
    "    response = open_ai.chat.completions.create(\n",
    "        model=\"gpt-4o-mini\",\n",
    "        messages=the_prompt[0],\n",
    "        max_tokens=500,\n",
    "        temperature=0.7 # 0.7 is a moderate value, balancing creativity and coherence.\n",
    "    );\n",
    "    # print(f\"\\n\\n{response.choices[0].message.content}\")\n",
    "    display(Markdown(f\"\\n======\\n{response.choices[0].message.content}\"))\n",
    "else:\n",
    "    print(f\"Failed to generate response. Status Code: {the_prompt[1]} | Error: {the_prompt[2]}\")"
   ]
  }
 ],
 "metadata": {
  "kernelspec": {
   "display_name": "venv",
   "language": "python",
   "name": "python3"
  },
  "language_info": {
   "codemirror_mode": {
    "name": "ipython",
    "version": 3
   },
   "file_extension": ".py",
   "mimetype": "text/x-python",
   "name": "python",
   "nbconvert_exporter": "python",
   "pygments_lexer": "ipython3",
   "version": "3.12.10"
  }
 },
 "nbformat": 4,
 "nbformat_minor": 5
}
